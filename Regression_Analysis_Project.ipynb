{
 "cells": [
  {
   "cell_type": "code",
   "execution_count": 1,
   "id": "3ffff072",
   "metadata": {},
   "outputs": [],
   "source": [
    "import pandas as pd\n",
    "import matplotlib.pyplot as plt\n",
    "import seaborn as sns\n",
    "from sklearn.linear_model import LogisticRegression\n",
    "from sklearn.feature_selection import SelectKBest, f_regression\n",
    "from sklearn.feature_selection import SelectKBest, mutual_info_regression\n",
    "import matplotlib.pyplot as plt\n",
    "from sklearn.model_selection import train_test_split\n",
    "from sklearn import metrics\n",
    "from sklearn.metrics import balanced_accuracy_score\n",
    "import numpy as np"
   ]
  },
  {
   "cell_type": "code",
   "execution_count": 2,
   "id": "ef569549",
   "metadata": {},
   "outputs": [],
   "source": [
    "df = pd.read_csv('Placement.csv')"
   ]
  },
  {
   "cell_type": "code",
   "execution_count": 3,
   "id": "32b3553f",
   "metadata": {},
   "outputs": [],
   "source": [
    "#Remove Nulls"
   ]
  },
  {
   "cell_type": "code",
   "execution_count": 4,
   "id": "c49bbe27",
   "metadata": {
    "scrolled": true
   },
   "outputs": [
    {
     "data": {
      "text/html": [
       "<div>\n",
       "<style scoped>\n",
       "    .dataframe tbody tr th:only-of-type {\n",
       "        vertical-align: middle;\n",
       "    }\n",
       "\n",
       "    .dataframe tbody tr th {\n",
       "        vertical-align: top;\n",
       "    }\n",
       "\n",
       "    .dataframe thead th {\n",
       "        text-align: right;\n",
       "    }\n",
       "</style>\n",
       "<table border=\"1\" class=\"dataframe\">\n",
       "  <thead>\n",
       "    <tr style=\"text-align: right;\">\n",
       "      <th></th>\n",
       "      <th>sl_no</th>\n",
       "      <th>gender</th>\n",
       "      <th>ssc_p</th>\n",
       "      <th>ssc_b</th>\n",
       "      <th>hsc_p</th>\n",
       "      <th>hsc_b</th>\n",
       "      <th>hsc_s</th>\n",
       "      <th>degree_p</th>\n",
       "      <th>degree_t</th>\n",
       "      <th>workex</th>\n",
       "      <th>etest_p</th>\n",
       "      <th>specialisation</th>\n",
       "      <th>mba_p</th>\n",
       "      <th>salary</th>\n",
       "      <th>status</th>\n",
       "    </tr>\n",
       "  </thead>\n",
       "  <tbody>\n",
       "    <tr>\n",
       "      <th>0</th>\n",
       "      <td>1</td>\n",
       "      <td>M</td>\n",
       "      <td>67.00</td>\n",
       "      <td>Others</td>\n",
       "      <td>91.00</td>\n",
       "      <td>Others</td>\n",
       "      <td>Commerce</td>\n",
       "      <td>58.00</td>\n",
       "      <td>Sci&amp;Tech</td>\n",
       "      <td>No</td>\n",
       "      <td>55.0</td>\n",
       "      <td>Mkt&amp;HR</td>\n",
       "      <td>58.80</td>\n",
       "      <td>270000.0</td>\n",
       "      <td>Placed</td>\n",
       "    </tr>\n",
       "    <tr>\n",
       "      <th>1</th>\n",
       "      <td>2</td>\n",
       "      <td>M</td>\n",
       "      <td>79.33</td>\n",
       "      <td>Central</td>\n",
       "      <td>78.33</td>\n",
       "      <td>Others</td>\n",
       "      <td>Science</td>\n",
       "      <td>77.48</td>\n",
       "      <td>Sci&amp;Tech</td>\n",
       "      <td>Yes</td>\n",
       "      <td>86.5</td>\n",
       "      <td>Mkt&amp;Fin</td>\n",
       "      <td>66.28</td>\n",
       "      <td>200000.0</td>\n",
       "      <td>Placed</td>\n",
       "    </tr>\n",
       "    <tr>\n",
       "      <th>2</th>\n",
       "      <td>3</td>\n",
       "      <td>M</td>\n",
       "      <td>65.00</td>\n",
       "      <td>Central</td>\n",
       "      <td>68.00</td>\n",
       "      <td>Central</td>\n",
       "      <td>Arts</td>\n",
       "      <td>64.00</td>\n",
       "      <td>Comm&amp;Mgmt</td>\n",
       "      <td>No</td>\n",
       "      <td>75.0</td>\n",
       "      <td>Mkt&amp;Fin</td>\n",
       "      <td>57.80</td>\n",
       "      <td>250000.0</td>\n",
       "      <td>Placed</td>\n",
       "    </tr>\n",
       "    <tr>\n",
       "      <th>3</th>\n",
       "      <td>4</td>\n",
       "      <td>M</td>\n",
       "      <td>56.00</td>\n",
       "      <td>Central</td>\n",
       "      <td>52.00</td>\n",
       "      <td>Central</td>\n",
       "      <td>Science</td>\n",
       "      <td>52.00</td>\n",
       "      <td>Sci&amp;Tech</td>\n",
       "      <td>No</td>\n",
       "      <td>66.0</td>\n",
       "      <td>Mkt&amp;HR</td>\n",
       "      <td>59.43</td>\n",
       "      <td>NaN</td>\n",
       "      <td>Not Placed</td>\n",
       "    </tr>\n",
       "    <tr>\n",
       "      <th>4</th>\n",
       "      <td>5</td>\n",
       "      <td>M</td>\n",
       "      <td>85.80</td>\n",
       "      <td>Central</td>\n",
       "      <td>73.60</td>\n",
       "      <td>Central</td>\n",
       "      <td>Commerce</td>\n",
       "      <td>73.30</td>\n",
       "      <td>Comm&amp;Mgmt</td>\n",
       "      <td>No</td>\n",
       "      <td>96.8</td>\n",
       "      <td>Mkt&amp;Fin</td>\n",
       "      <td>55.50</td>\n",
       "      <td>425000.0</td>\n",
       "      <td>Placed</td>\n",
       "    </tr>\n",
       "    <tr>\n",
       "      <th>...</th>\n",
       "      <td>...</td>\n",
       "      <td>...</td>\n",
       "      <td>...</td>\n",
       "      <td>...</td>\n",
       "      <td>...</td>\n",
       "      <td>...</td>\n",
       "      <td>...</td>\n",
       "      <td>...</td>\n",
       "      <td>...</td>\n",
       "      <td>...</td>\n",
       "      <td>...</td>\n",
       "      <td>...</td>\n",
       "      <td>...</td>\n",
       "      <td>...</td>\n",
       "      <td>...</td>\n",
       "    </tr>\n",
       "    <tr>\n",
       "      <th>210</th>\n",
       "      <td>211</td>\n",
       "      <td>M</td>\n",
       "      <td>80.60</td>\n",
       "      <td>Others</td>\n",
       "      <td>82.00</td>\n",
       "      <td>Others</td>\n",
       "      <td>Commerce</td>\n",
       "      <td>77.60</td>\n",
       "      <td>Comm&amp;Mgmt</td>\n",
       "      <td>No</td>\n",
       "      <td>91.0</td>\n",
       "      <td>Mkt&amp;Fin</td>\n",
       "      <td>74.49</td>\n",
       "      <td>400000.0</td>\n",
       "      <td>Placed</td>\n",
       "    </tr>\n",
       "    <tr>\n",
       "      <th>211</th>\n",
       "      <td>212</td>\n",
       "      <td>M</td>\n",
       "      <td>58.00</td>\n",
       "      <td>Others</td>\n",
       "      <td>60.00</td>\n",
       "      <td>Others</td>\n",
       "      <td>Science</td>\n",
       "      <td>72.00</td>\n",
       "      <td>Sci&amp;Tech</td>\n",
       "      <td>No</td>\n",
       "      <td>74.0</td>\n",
       "      <td>Mkt&amp;Fin</td>\n",
       "      <td>53.62</td>\n",
       "      <td>275000.0</td>\n",
       "      <td>Placed</td>\n",
       "    </tr>\n",
       "    <tr>\n",
       "      <th>212</th>\n",
       "      <td>213</td>\n",
       "      <td>M</td>\n",
       "      <td>67.00</td>\n",
       "      <td>Others</td>\n",
       "      <td>67.00</td>\n",
       "      <td>Others</td>\n",
       "      <td>Commerce</td>\n",
       "      <td>73.00</td>\n",
       "      <td>Comm&amp;Mgmt</td>\n",
       "      <td>Yes</td>\n",
       "      <td>59.0</td>\n",
       "      <td>Mkt&amp;Fin</td>\n",
       "      <td>69.72</td>\n",
       "      <td>295000.0</td>\n",
       "      <td>Placed</td>\n",
       "    </tr>\n",
       "    <tr>\n",
       "      <th>213</th>\n",
       "      <td>214</td>\n",
       "      <td>F</td>\n",
       "      <td>74.00</td>\n",
       "      <td>Others</td>\n",
       "      <td>66.00</td>\n",
       "      <td>Others</td>\n",
       "      <td>Commerce</td>\n",
       "      <td>58.00</td>\n",
       "      <td>Comm&amp;Mgmt</td>\n",
       "      <td>No</td>\n",
       "      <td>70.0</td>\n",
       "      <td>Mkt&amp;HR</td>\n",
       "      <td>60.23</td>\n",
       "      <td>204000.0</td>\n",
       "      <td>Placed</td>\n",
       "    </tr>\n",
       "    <tr>\n",
       "      <th>214</th>\n",
       "      <td>215</td>\n",
       "      <td>M</td>\n",
       "      <td>62.00</td>\n",
       "      <td>Central</td>\n",
       "      <td>58.00</td>\n",
       "      <td>Others</td>\n",
       "      <td>Science</td>\n",
       "      <td>53.00</td>\n",
       "      <td>Comm&amp;Mgmt</td>\n",
       "      <td>No</td>\n",
       "      <td>89.0</td>\n",
       "      <td>Mkt&amp;HR</td>\n",
       "      <td>60.22</td>\n",
       "      <td>NaN</td>\n",
       "      <td>Not Placed</td>\n",
       "    </tr>\n",
       "  </tbody>\n",
       "</table>\n",
       "<p>215 rows × 15 columns</p>\n",
       "</div>"
      ],
      "text/plain": [
       "     sl_no gender  ssc_p    ssc_b  hsc_p    hsc_b     hsc_s  degree_p  \\\n",
       "0        1      M  67.00   Others  91.00   Others  Commerce     58.00   \n",
       "1        2      M  79.33  Central  78.33   Others   Science     77.48   \n",
       "2        3      M  65.00  Central  68.00  Central      Arts     64.00   \n",
       "3        4      M  56.00  Central  52.00  Central   Science     52.00   \n",
       "4        5      M  85.80  Central  73.60  Central  Commerce     73.30   \n",
       "..     ...    ...    ...      ...    ...      ...       ...       ...   \n",
       "210    211      M  80.60   Others  82.00   Others  Commerce     77.60   \n",
       "211    212      M  58.00   Others  60.00   Others   Science     72.00   \n",
       "212    213      M  67.00   Others  67.00   Others  Commerce     73.00   \n",
       "213    214      F  74.00   Others  66.00   Others  Commerce     58.00   \n",
       "214    215      M  62.00  Central  58.00   Others   Science     53.00   \n",
       "\n",
       "      degree_t workex  etest_p specialisation  mba_p    salary      status  \n",
       "0     Sci&Tech     No     55.0         Mkt&HR  58.80  270000.0      Placed  \n",
       "1     Sci&Tech    Yes     86.5        Mkt&Fin  66.28  200000.0      Placed  \n",
       "2    Comm&Mgmt     No     75.0        Mkt&Fin  57.80  250000.0      Placed  \n",
       "3     Sci&Tech     No     66.0         Mkt&HR  59.43       NaN  Not Placed  \n",
       "4    Comm&Mgmt     No     96.8        Mkt&Fin  55.50  425000.0      Placed  \n",
       "..         ...    ...      ...            ...    ...       ...         ...  \n",
       "210  Comm&Mgmt     No     91.0        Mkt&Fin  74.49  400000.0      Placed  \n",
       "211   Sci&Tech     No     74.0        Mkt&Fin  53.62  275000.0      Placed  \n",
       "212  Comm&Mgmt    Yes     59.0        Mkt&Fin  69.72  295000.0      Placed  \n",
       "213  Comm&Mgmt     No     70.0         Mkt&HR  60.23  204000.0      Placed  \n",
       "214  Comm&Mgmt     No     89.0         Mkt&HR  60.22       NaN  Not Placed  \n",
       "\n",
       "[215 rows x 15 columns]"
      ]
     },
     "execution_count": 4,
     "metadata": {},
     "output_type": "execute_result"
    }
   ],
   "source": [
    "df"
   ]
  },
  {
   "cell_type": "code",
   "execution_count": 5,
   "id": "b9a86beb",
   "metadata": {},
   "outputs": [
    {
     "name": "stdout",
     "output_type": "stream",
     "text": [
      "<class 'pandas.core.frame.DataFrame'>\n",
      "RangeIndex: 215 entries, 0 to 214\n",
      "Data columns (total 15 columns):\n",
      " #   Column          Non-Null Count  Dtype  \n",
      "---  ------          --------------  -----  \n",
      " 0   sl_no           215 non-null    int64  \n",
      " 1   gender          215 non-null    object \n",
      " 2   ssc_p           215 non-null    float64\n",
      " 3   ssc_b           215 non-null    object \n",
      " 4   hsc_p           213 non-null    float64\n",
      " 5   hsc_b           215 non-null    object \n",
      " 6   hsc_s           214 non-null    object \n",
      " 7   degree_p        215 non-null    float64\n",
      " 8   degree_t        215 non-null    object \n",
      " 9   workex          215 non-null    object \n",
      " 10  etest_p         215 non-null    float64\n",
      " 11  specialisation  214 non-null    object \n",
      " 12  mba_p           215 non-null    float64\n",
      " 13  salary          148 non-null    float64\n",
      " 14  status          215 non-null    object \n",
      "dtypes: float64(6), int64(1), object(8)\n",
      "memory usage: 25.3+ KB\n"
     ]
    }
   ],
   "source": [
    "df.info()\n",
    "#We have a few columns with nulls in them"
   ]
  },
  {
   "cell_type": "code",
   "execution_count": 6,
   "id": "6b170006",
   "metadata": {},
   "outputs": [],
   "source": [
    "#After trying several painstaking methods to deal with Salary, from creating different data frames with\n",
    "#salary outliers removed but nulls redefined to -1 and just not those -1 rows in graphing,\n",
    "#I've made the decision Salary is not even a good variable for my data. Since salary is a variable that occurs\n",
    "#with placement, its not exactly a good predictor. Replacing nulls with medians created false correlations with salary\n",
    "#Even if it had a good fit, I don't think it would be used for regression. \n",
    "#The fact it has so many nulls (even though its just unplaced people)cements im just going to drop it\n",
    "df.drop('salary', axis=1, inplace=True)"
   ]
  },
  {
   "cell_type": "code",
   "execution_count": 7,
   "id": "56a3377e",
   "metadata": {},
   "outputs": [],
   "source": [
    "#hsc_p only has a few nulls, so will fill them in with the median\n",
    "med = df['hsc_p'].median()\n",
    "df['hsc_p'].fillna(med, inplace=True)"
   ]
  },
  {
   "cell_type": "code",
   "execution_count": 8,
   "id": "b8e3e4a3",
   "metadata": {},
   "outputs": [],
   "source": [
    "#This colmun has no numierc values, and only one null so im going to drop it\n",
    "df.dropna(subset=['specialisation'], inplace=True)"
   ]
  },
  {
   "cell_type": "code",
   "execution_count": 9,
   "id": "0cccc29a",
   "metadata": {},
   "outputs": [],
   "source": [
    "#This colmun also has no numierc values, and only one null so im going to drop it\n",
    "df.dropna(subset=['hsc_s'], inplace=True)"
   ]
  },
  {
   "cell_type": "code",
   "execution_count": 10,
   "id": "cb577f73",
   "metadata": {},
   "outputs": [],
   "source": [
    "#This is just a serial number so its useless to me\n",
    "df.drop('sl_no', axis=1, inplace=True)"
   ]
  },
  {
   "cell_type": "code",
   "execution_count": 11,
   "id": "6b8a74ee",
   "metadata": {},
   "outputs": [
    {
     "name": "stdout",
     "output_type": "stream",
     "text": [
      "<class 'pandas.core.frame.DataFrame'>\n",
      "Index: 213 entries, 0 to 214\n",
      "Data columns (total 13 columns):\n",
      " #   Column          Non-Null Count  Dtype  \n",
      "---  ------          --------------  -----  \n",
      " 0   gender          213 non-null    object \n",
      " 1   ssc_p           213 non-null    float64\n",
      " 2   ssc_b           213 non-null    object \n",
      " 3   hsc_p           213 non-null    float64\n",
      " 4   hsc_b           213 non-null    object \n",
      " 5   hsc_s           213 non-null    object \n",
      " 6   degree_p        213 non-null    float64\n",
      " 7   degree_t        213 non-null    object \n",
      " 8   workex          213 non-null    object \n",
      " 9   etest_p         213 non-null    float64\n",
      " 10  specialisation  213 non-null    object \n",
      " 11  mba_p           213 non-null    float64\n",
      " 12  status          213 non-null    object \n",
      "dtypes: float64(5), object(8)\n",
      "memory usage: 23.3+ KB\n"
     ]
    }
   ],
   "source": [
    "#Still 213 rows, plenty of data to work with\n",
    "df.info()"
   ]
  },
  {
   "cell_type": "code",
   "execution_count": 12,
   "id": "9f0c103c",
   "metadata": {},
   "outputs": [],
   "source": [
    "#Remove Outliers"
   ]
  },
  {
   "cell_type": "code",
   "execution_count": 13,
   "id": "0aa0ac15",
   "metadata": {},
   "outputs": [],
   "source": [
    "#Columns that need to be looked at are numeric\n",
    "#Im going to use the method of creating a new data frame for each outlier removal sequence"
   ]
  },
  {
   "cell_type": "code",
   "execution_count": 14,
   "id": "59c81455",
   "metadata": {},
   "outputs": [
    {
     "name": "stdout",
     "output_type": "stream",
     "text": [
      "15.200000000000003\n"
     ]
    }
   ],
   "source": [
    "#ssc_p for those that performed very poorly in secondary school or the very top of thier class\n",
    "Q1 = df['ssc_p'].quantile(0.25)\n",
    "Q3 = df['ssc_p'].quantile(0.75)\n",
    "IQRage = Q3 - Q1\n",
    "print(IQRage)\n",
    "below = Q1 - 1.5 * IQRage\n",
    "above = Q3 + 1.5 * IQRage "
   ]
  },
  {
   "cell_type": "code",
   "execution_count": 15,
   "id": "aea920aa",
   "metadata": {},
   "outputs": [],
   "source": [
    "df_no_out1 = df.loc[(df['ssc_p'] >= below) & (df['ssc_p'] <= above)]"
   ]
  },
  {
   "cell_type": "code",
   "execution_count": 16,
   "id": "9172bca8",
   "metadata": {},
   "outputs": [],
   "source": [
    "#hsc_p for those that performed very poorly in highschool or the very top of thier class\n",
    "Q1 = df['hsc_p'].quantile(0.25)\n",
    "Q3 = df['hsc_p'].quantile(0.75)\n",
    "IQRage = Q3 - Q1\n",
    "below = Q1 - 1.5 * IQRage\n",
    "above = Q3 + 1.5 * IQRage "
   ]
  },
  {
   "cell_type": "code",
   "execution_count": 17,
   "id": "0065fc7a",
   "metadata": {},
   "outputs": [],
   "source": [
    "df_no_out2 = df_no_out1.loc[(df_no_out1['hsc_p'] >= below) & (df_no_out1['hsc_p'] <= above)]"
   ]
  },
  {
   "cell_type": "code",
   "execution_count": 18,
   "id": "2579a2c1",
   "metadata": {},
   "outputs": [
    {
     "name": "stdout",
     "output_type": "stream",
     "text": [
      "<class 'pandas.core.frame.DataFrame'>\n",
      "Index: 204 entries, 0 to 214\n",
      "Data columns (total 13 columns):\n",
      " #   Column          Non-Null Count  Dtype  \n",
      "---  ------          --------------  -----  \n",
      " 0   gender          204 non-null    object \n",
      " 1   ssc_p           204 non-null    float64\n",
      " 2   ssc_b           204 non-null    object \n",
      " 3   hsc_p           204 non-null    float64\n",
      " 4   hsc_b           204 non-null    object \n",
      " 5   hsc_s           204 non-null    object \n",
      " 6   degree_p        204 non-null    float64\n",
      " 7   degree_t        204 non-null    object \n",
      " 8   workex          204 non-null    object \n",
      " 9   etest_p         204 non-null    float64\n",
      " 10  specialisation  204 non-null    object \n",
      " 11  mba_p           204 non-null    float64\n",
      " 12  status          204 non-null    object \n",
      "dtypes: float64(5), object(8)\n",
      "memory usage: 22.3+ KB\n"
     ]
    }
   ],
   "source": [
    "#Looks like alot of our outliers were in hsc_p, I'll make note of that but I want to avoid using outliers if I can\n",
    "df_no_out2.info()"
   ]
  },
  {
   "cell_type": "code",
   "execution_count": 19,
   "id": "0c0bb06c",
   "metadata": {},
   "outputs": [],
   "source": [
    "#degree_p for those who performed veyr poorly or the very top of their degree\n",
    "Q1 = df['degree_p'].quantile(0.25)\n",
    "Q3 = df['degree_p'].quantile(0.75)\n",
    "IQRage = Q3 - Q1\n",
    "below = Q1 - 1.5 * IQRage\n",
    "above = Q3 + 1.5 * IQRage "
   ]
  },
  {
   "cell_type": "code",
   "execution_count": 20,
   "id": "7bcc9226",
   "metadata": {},
   "outputs": [],
   "source": [
    "df_no_out3 = df_no_out2.loc[(df_no_out2['degree_p'] >= below) & (df_no_out2['degree_p'] <= above)]"
   ]
  },
  {
   "cell_type": "code",
   "execution_count": 21,
   "id": "a755cdf7",
   "metadata": {
    "scrolled": true
   },
   "outputs": [
    {
     "name": "stdout",
     "output_type": "stream",
     "text": [
      "<class 'pandas.core.frame.DataFrame'>\n",
      "Index: 203 entries, 0 to 214\n",
      "Data columns (total 13 columns):\n",
      " #   Column          Non-Null Count  Dtype  \n",
      "---  ------          --------------  -----  \n",
      " 0   gender          203 non-null    object \n",
      " 1   ssc_p           203 non-null    float64\n",
      " 2   ssc_b           203 non-null    object \n",
      " 3   hsc_p           203 non-null    float64\n",
      " 4   hsc_b           203 non-null    object \n",
      " 5   hsc_s           203 non-null    object \n",
      " 6   degree_p        203 non-null    float64\n",
      " 7   degree_t        203 non-null    object \n",
      " 8   workex          203 non-null    object \n",
      " 9   etest_p         203 non-null    float64\n",
      " 10  specialisation  203 non-null    object \n",
      " 11  mba_p           203 non-null    float64\n",
      " 12  status          203 non-null    object \n",
      "dtypes: float64(5), object(8)\n",
      "memory usage: 22.2+ KB\n"
     ]
    }
   ],
   "source": [
    "#lets see how the data looks after removing some more outliers\n",
    "df_no_out3.info()"
   ]
  },
  {
   "cell_type": "code",
   "execution_count": 22,
   "id": "b3e1e18a",
   "metadata": {},
   "outputs": [],
   "source": [
    "#etest_p for those who did poorly on the employeement test or were the very top performers\n",
    "Q1 = df['etest_p'].quantile(0.25)\n",
    "Q3 = df['etest_p'].quantile(0.75)\n",
    "IQRage = Q3 - Q1\n",
    "below = Q1 - 1.5 * IQRage\n",
    "above = Q3 + 1.5 * IQRage "
   ]
  },
  {
   "cell_type": "code",
   "execution_count": 23,
   "id": "2e7e1cfc",
   "metadata": {},
   "outputs": [],
   "source": [
    "df_no_out4 = df_no_out3.loc[(df_no_out3['etest_p'] >= below) & (df_no_out3['etest_p'] <= above)]"
   ]
  },
  {
   "cell_type": "code",
   "execution_count": 24,
   "id": "ee6db184",
   "metadata": {},
   "outputs": [],
   "source": [
    "#mba_p for those who recently performed very poorly in school recently, \n",
    "#or were the very top of the class \n",
    "Q1 = df['mba_p'].quantile(0.25)\n",
    "Q3 = df['mba_p'].quantile(0.75)\n",
    "IQRage = Q3 - Q1\n",
    "below = Q1 - 1.5 * IQRage\n",
    "above = Q3 + 1.5 * IQRage "
   ]
  },
  {
   "cell_type": "code",
   "execution_count": 25,
   "id": "ef76f51e",
   "metadata": {},
   "outputs": [],
   "source": [
    "df_no_out5 = df_no_out4.loc[(df_no_out4['mba_p'] >= below) & (df_no_out4['mba_p'] <= above)]"
   ]
  },
  {
   "cell_type": "code",
   "execution_count": 26,
   "id": "887922f3",
   "metadata": {},
   "outputs": [
    {
     "name": "stdout",
     "output_type": "stream",
     "text": [
      "<class 'pandas.core.frame.DataFrame'>\n",
      "Index: 203 entries, 0 to 214\n",
      "Data columns (total 13 columns):\n",
      " #   Column          Non-Null Count  Dtype  \n",
      "---  ------          --------------  -----  \n",
      " 0   gender          203 non-null    object \n",
      " 1   ssc_p           203 non-null    float64\n",
      " 2   ssc_b           203 non-null    object \n",
      " 3   hsc_p           203 non-null    float64\n",
      " 4   hsc_b           203 non-null    object \n",
      " 5   hsc_s           203 non-null    object \n",
      " 6   degree_p        203 non-null    float64\n",
      " 7   degree_t        203 non-null    object \n",
      " 8   workex          203 non-null    object \n",
      " 9   etest_p         203 non-null    float64\n",
      " 10  specialisation  203 non-null    object \n",
      " 11  mba_p           203 non-null    float64\n",
      " 12  status          203 non-null    object \n",
      "dtypes: float64(5), object(8)\n",
      "memory usage: 22.2+ KB\n"
     ]
    }
   ],
   "source": [
    "df_no_out5.info()\n",
    "#Still plenty of data, I'm happy with how the process turned out. I'll now assign the \n",
    "#original df to df_no_out5 since I like the amount of data and\n",
    "#personally, if one grauduate has a single data point that is an outlier, I'd like to avoid using them altogether"
   ]
  },
  {
   "cell_type": "code",
   "execution_count": 27,
   "id": "c0c81e7b",
   "metadata": {},
   "outputs": [],
   "source": [
    "df = df_no_out5"
   ]
  },
  {
   "cell_type": "code",
   "execution_count": 28,
   "id": "295b008a",
   "metadata": {
    "scrolled": true
   },
   "outputs": [
    {
     "name": "stdout",
     "output_type": "stream",
     "text": [
      "<class 'pandas.core.frame.DataFrame'>\n",
      "Index: 203 entries, 0 to 214\n",
      "Data columns (total 13 columns):\n",
      " #   Column          Non-Null Count  Dtype  \n",
      "---  ------          --------------  -----  \n",
      " 0   gender          203 non-null    object \n",
      " 1   ssc_p           203 non-null    float64\n",
      " 2   ssc_b           203 non-null    object \n",
      " 3   hsc_p           203 non-null    float64\n",
      " 4   hsc_b           203 non-null    object \n",
      " 5   hsc_s           203 non-null    object \n",
      " 6   degree_p        203 non-null    float64\n",
      " 7   degree_t        203 non-null    object \n",
      " 8   workex          203 non-null    object \n",
      " 9   etest_p         203 non-null    float64\n",
      " 10  specialisation  203 non-null    object \n",
      " 11  mba_p           203 non-null    float64\n",
      " 12  status          203 non-null    object \n",
      "dtypes: float64(5), object(8)\n",
      "memory usage: 22.2+ KB\n"
     ]
    }
   ],
   "source": [
    "df.info()\n",
    "#great, it worked"
   ]
  },
  {
   "cell_type": "code",
   "execution_count": 29,
   "id": "246d56f4",
   "metadata": {},
   "outputs": [],
   "source": [
    "#I wanna make some visulizations to show to my boss"
   ]
  },
  {
   "cell_type": "code",
   "execution_count": 30,
   "id": "1593ec36",
   "metadata": {
    "scrolled": true
   },
   "outputs": [
    {
     "data": {
      "image/png": "[encoded data removed]",
      "text/plain": [
       "<Figure size 1000x600 with 1 Axes>"
      ]
     },
     "metadata": {},
     "output_type": "display_data"
    }
   ],
   "source": [
    "plt.figure(figsize=(10, 6))\n",
    "sns.boxplot(data=df, x='etest_p', y='degree_t')\n",
    "plt.title('Employee Ability Test Percentile vs Degree Type')\n",
    "plt.xlabel('Employee Ability Test Percentile')\n",
    "plt.ylabel('Degree Type')\n",
    "plt.tight_layout()\n",
    "plt.show()\n",
    "#This gives us some insight on how our gradutes score in being a good eomplyee based off thier degree type. \n",
    "#It appears all degree types have a high median(in my opionion above 65 employee test score. However, both\n",
    "#sci and tech and comm and Mgmt have some high variability. If the company values this employee ability test,\n",
    "#they should know that those with 'Others'degree type classification score the highest most consistenly.\n",
    "#It should be noted both Sci and Tech/Comm and Mgmt don't have a score below 50 and should score well on the test a lareg poriton of the time."
   ]
  },
  {
   "cell_type": "code",
   "execution_count": 31,
   "id": "69a5f47f",
   "metadata": {},
   "outputs": [
    {
     "data": {
      "text/plain": [
       "Text(40, 80, 'Correlation: 0.52')"
      ]
     },
     "execution_count": 31,
     "metadata": {},
     "output_type": "execute_result"
    },
    {
     "data": {
      "image/png": "[encoded data removed]",
      "text/plain": [
       "<Figure size 1000x600 with 1 Axes>"
      ]
     },
     "metadata": {},
     "output_type": "display_data"
    }
   ],
   "source": [
    "plt.figure(figsize=(10, 6))\n",
    "sns.regplot(data=df, x='ssc_p', y='degree_p')\n",
    "plt.title('Degree Percentile vs Secondary Education Percentile')\n",
    "plt.xlabel('Secondary Education Percentile')\n",
    "plt.ylabel('Degree Percentile')\n",
    "correlation_coefficient = df['ssc_p'].corr(df['degree_p'])\n",
    "plt.text(40, 80, f'Correlation: {correlation_coefficient:.2f}', fontsize=12, color='red')\n",
    "#Great,I can see some moderate positive correlation between these two varibles of 0.52. It looks like how well\n",
    "#a gradute did in highschool is a good predictor of how well they will do in school within thier degree program.\n",
    "#If the company values degree program percentile, then secondary schooling percentile is a good indictaor of perforance."
   ]
  },
  {
   "cell_type": "code",
   "execution_count": 32,
   "id": "9291e535",
   "metadata": {
    "scrolled": true
   },
   "outputs": [
    {
     "data": {
      "image/png": "[encoded data removed]",
      "text/plain": [
       "<Figure size 800x800 with 1 Axes>"
      ]
     },
     "metadata": {},
     "output_type": "display_data"
    }
   ],
   "source": [
    "specialization_percentage = (df['hsc_s'].value_counts() / len(df)) * 100\n",
    "plt.figure(figsize=(8, 8))\n",
    "plt.pie(specialization_percentage, labels=specialization_percentage.index, autopct='%1.1f%%', startangle=140)\n",
    "plt.title('Percentage of Graduatees in Each Specialization')\n",
    "plt.axis('equal')  \n",
    "plt.show()\n",
    "#Here we can get an idea of how many gradutes are in each Specialization by percent of total gradutes. \n",
    "#It looks like most of our gradutes are commerce by a large portion of over 10% on the next largest Science.\n",
    "#It should be noted we have very little Arts, and our data most likely won't be good at prediciting someones status\n",
    "#based off them just being an Arts Specialization."
   ]
  },
  {
   "cell_type": "code",
   "execution_count": 33,
   "id": "2fa5a03d",
   "metadata": {},
   "outputs": [],
   "source": [
    "df_2 = df.copy()"
   ]
  },
  {
   "cell_type": "code",
   "execution_count": 34,
   "id": "791de4c7",
   "metadata": {},
   "outputs": [],
   "source": [
    "#Lets make a bin to organize the large amount of degree percentile scores (none are below 50)\n",
    "df_2['degree_p_bin'] = pd.cut(df_2['degree_p'], bins = [50,60,70,80,90,100], labels=['50-60','60-70','70-80','80-90','90-100'])"
   ]
  },
  {
   "cell_type": "code",
   "execution_count": 35,
   "id": "edfb53de",
   "metadata": {
    "scrolled": false
   },
   "outputs": [
    {
     "name": "stderr",
     "output_type": "stream",
     "text": [
      "/var/folders/mv/ngt34s_51wj5dl5f7kcmt6pw0000gn/T/ipykernel_67626/2240929604.py:2: FutureWarning: The default of observed=False is deprecated and will be changed to True in a future version of pandas. Pass observed=False to retain current behavior or observed=True to adopt the future default and silence this warning.\n",
      "  grouped = df_2.groupby(['degree_p_bin', 'degree_t']).size().reset_index(name='count')\n",
      "/opt/anaconda3/lib/python3.11/site-packages/seaborn/categorical.py:641: FutureWarning: The default of observed=False is deprecated and will be changed to True in a future version of pandas. Pass observed=False to retain current behavior or observed=True to adopt the future default and silence this warning.\n",
      "  grouped_vals = vals.groupby(grouper)\n",
      "/opt/anaconda3/lib/python3.11/site-packages/seaborn/categorical.py:641: FutureWarning: The default of observed=False is deprecated and will be changed to True in a future version of pandas. Pass observed=False to retain current behavior or observed=True to adopt the future default and silence this warning.\n",
      "  grouped_vals = vals.groupby(grouper)\n"
     ]
    },
    {
     "data": {
      "image/png": "[encoded data removed]",
      "text/plain": [
       "<Figure size 1200x600 with 1 Axes>"
      ]
     },
     "metadata": {},
     "output_type": "display_data"
    }
   ],
   "source": [
    "#Lets group the data I'm interested in to use with my bin\n",
    "grouped = df_2.groupby(['degree_p_bin', 'degree_t']).size().reset_index(name='count')\n",
    "plt.figure(figsize=(12, 6))\n",
    "sns.barplot(data=grouped, x='degree_p_bin', y='count', hue='degree_t', palette='Set2')\n",
    "plt.title('Degree Percentile vs Degree Type')\n",
    "plt.xlabel('Degree Percentile')\n",
    "plt.ylabel('Number of Graduates')\n",
    "plt.xticks(rotation=45)\n",
    "plt.legend(title='Degree Type', bbox_to_anchor=(1.00, 1), loc='upper left')\n",
    "plt.show()\n",
    "#Looks like all of our graduates were at least the top 50 percentile in thier degree program. There is some overlap\n",
    "#with hsc_s (specialization)that we have much more comms and Mgmt Graduates then Sci and Tech and 'Others'(most likely pretaining to Arts).\n",
    "#After binning the degree percentile, we see that most graduates in Sci and Tech and Comm and Mgmt fall into the 60-70 range.\n",
    "#Since there is little variability, If we determine degree percentile to be a good indicator of placement, \n",
    "#its possible there could be a stark difference between just 50-60 and 60-70, and 60-70 and 70-80 on gradute placement rates in those groups."
   ]
  },
  {
   "cell_type": "code",
   "execution_count": 36,
   "id": "bea92321",
   "metadata": {},
   "outputs": [],
   "source": [
    "#Now that we have an idea of who our gradutes our and some exisiting trends, \n",
    "#lets see what may best predict placement in the next set of graphs"
   ]
  },
  {
   "cell_type": "code",
   "execution_count": 37,
   "id": "7101fa6d",
   "metadata": {
    "scrolled": true
   },
   "outputs": [
    {
     "data": {
      "image/png": "[encoded data removed]",
      "text/plain": [
       "<Figure size 800x800 with 1 Axes>"
      ]
     },
     "metadata": {},
     "output_type": "display_data"
    }
   ],
   "source": [
    "specialization_count = df['hsc_s'].value_counts()\n",
    "#lets group the gradutes by placed only to get a better idea of how each specialization did in placement\n",
    "specialization_placement_count = df[df['status'] == 'Placed'].groupby('hsc_s').size()\n",
    "percentage_placed_by_specialization = (specialization_placement_count / specialization_count) * 100\n",
    "plt.figure(figsize=(8, 8))\n",
    "plt.pie(percentage_placed_by_specialization, labels=percentage_placed_by_specialization.index, autopct='%1.1f%%', startangle=140)\n",
    "plt.title('Percentage of Placed Students by Specialization')\n",
    "plt.axis('equal')  \n",
    "plt.show()\n",
    "#Interesting. It looks like even though 53% of our gradutes are in Commerce, only 34.5% found placement. \n",
    "#Yet, of our 42% Science gradutes, 35.7% were placed! This shows me two important points:\n",
    "#Commerce graduates may struggle to find placement (perhaps competitve field), and Science\n",
    "#gradutes have a high placement rate (they may be in demand right now) so being in Science can be a good indicator of placement.\n",
    "#Since I know only 5% of our gradutes are in the Arts, I don't think we can gather much information."
   ]
  },
  {
   "cell_type": "code",
   "execution_count": 38,
   "id": "0d2264f1",
   "metadata": {
    "scrolled": true
   },
   "outputs": [
    {
     "data": {
      "image/png": "[encoded data removed]",
      "text/plain": [
       "<Figure size 1000x600 with 1 Axes>"
      ]
     },
     "metadata": {},
     "output_type": "display_data"
    }
   ],
   "source": [
    "plt.figure(figsize=(10, 6))\n",
    "sns.boxplot(data=df, x='status', y='degree_p')\n",
    "plt.title('Degree Percentile vs Status')\n",
    "plt.xlabel('Status')\n",
    "plt.ylabel('Degree Percentile')\n",
    "plt.tight_layout()\n",
    "plt.show()\n",
    "#Looks like Degree percentile is a fantastic indicator of a gradute being placed! \n",
    "#Also, it seems our previous interpretation of our graph looking at degree percentile is backed up by our box plot.\n",
    "#Only 10-15 difference in degree percentile saw a huge difference in placement of our graduates.\n",
    "#A few take aways: those placed had a median percentile nearly 15 higher than those Not placed. \n",
    "#The IQR are also extremely small for both placed and not placed, indicting this data has very low variability.\n",
    "#It should be noted there were a few outliers on both sides excluded from the inner boxplot.\n",
    "#Looks like those who score well in thier degree program, at least 65 percentile, have a stronger chance of being placed."
   ]
  },
  {
   "cell_type": "code",
   "execution_count": 39,
   "id": "7a706287",
   "metadata": {},
   "outputs": [
    {
     "data": {
      "image/png": "[encoded data removed]",
      "text/plain": [
       "<Figure size 1000x600 with 1 Axes>"
      ]
     },
     "metadata": {},
     "output_type": "display_data"
    }
   ],
   "source": [
    "plt.figure(figsize=(10, 6))\n",
    "sns.countplot(data=df, x='specialisation', hue='status')\n",
    "plt.title('Placement Status by Area of Specialty')\n",
    "plt.xlabel('Area of Specialty')\n",
    "plt.ylabel('Number of Graduates')\n",
    "plt.legend(title='Status')\n",
    "plt.tight_layout()\n",
    "plt.show()\n",
    "#This graph shows me gradutes who have an area of specialty in Mkt and Fin have a very high placement rate compared to \n",
    "#Mkt and HR, even thought both are a substaintial amount of the data. \n",
    "#There is not enough MT and HR to make any conclusions. Perhaps this was misenterted information? I'll check with the company\n",
    "#Looks like gradutes who go into the Mkt and Fin have a good chance of being placed"
   ]
  },
  {
   "cell_type": "code",
   "execution_count": 40,
   "id": "acce36f7",
   "metadata": {},
   "outputs": [],
   "source": [
    "#Prepare for regression, lets find which varibles we should focus on using SelectKBest"
   ]
  },
  {
   "cell_type": "code",
   "execution_count": 41,
   "id": "53ae7965",
   "metadata": {},
   "outputs": [],
   "source": [
    "df['gender'] = df['gender'].factorize()[0]\n",
    "df['ssc_b'] = df['ssc_b'].factorize()[0]\n",
    "df['hsc_b'] = df['hsc_b'].factorize()[0]\n",
    "df['hsc_s'] = df['hsc_s'].factorize()[0]\n",
    "df['degree_t'] = df['degree_t'].factorize()[0]\n",
    "df['workex'] = df['workex'].factorize()[0]\n",
    "df['specialisation'] = df['specialisation'].factorize()[0]\n",
    "df['status'] = df['status'].factorize()[0]"
   ]
  },
  {
   "cell_type": "code",
   "execution_count": 42,
   "id": "5798bb8c",
   "metadata": {},
   "outputs": [],
   "source": [
    "X = df.drop('status',axis=1)\n",
    "y = df['status']"
   ]
  },
  {
   "cell_type": "code",
   "execution_count": 43,
   "id": "7a2ca127",
   "metadata": {
    "scrolled": false
   },
   "outputs": [
    {
     "data": {
      "text/html": [
       "<style>#sk-container-id-1 {color: black;background-color: white;}#sk-container-id-1 pre{padding: 0;}#sk-container-id-1 div.sk-toggleable {background-color: white;}#sk-container-id-1 label.sk-toggleable__label {cursor: pointer;display: block;width: 100%;margin-bottom: 0;padding: 0.3em;box-sizing: border-box;text-align: center;}#sk-container-id-1 label.sk-toggleable__label-arrow:before {content: \"▸\";float: left;margin-right: 0.25em;color: #696969;}#sk-container-id-1 label.sk-toggleable__label-arrow:hover:before {color: black;}#sk-container-id-1 div.sk-estimator:hover label.sk-toggleable__label-arrow:before {color: black;}#sk-container-id-1 div.sk-toggleable__content {max-height: 0;max-width: 0;overflow: hidden;text-align: left;background-color: #f0f8ff;}#sk-container-id-1 div.sk-toggleable__content pre {margin: 0.2em;color: black;border-radius: 0.25em;background-color: #f0f8ff;}#sk-container-id-1 input.sk-toggleable__control:checked~div.sk-toggleable__content {max-height: 200px;max-width: 100%;overflow: auto;}#sk-container-id-1 input.sk-toggleable__control:checked~label.sk-toggleable__label-arrow:before {content: \"▾\";}#sk-container-id-1 div.sk-estimator input.sk-toggleable__control:checked~label.sk-toggleable__label {background-color: #d4ebff;}#sk-container-id-1 div.sk-label input.sk-toggleable__control:checked~label.sk-toggleable__label {background-color: #d4ebff;}#sk-container-id-1 input.sk-hidden--visually {border: 0;clip: rect(1px 1px 1px 1px);clip: rect(1px, 1px, 1px, 1px);height: 1px;margin: -1px;overflow: hidden;padding: 0;position: absolute;width: 1px;}#sk-container-id-1 div.sk-estimator {font-family: monospace;background-color: #f0f8ff;border: 1px dotted black;border-radius: 0.25em;box-sizing: border-box;margin-bottom: 0.5em;}#sk-container-id-1 div.sk-estimator:hover {background-color: #d4ebff;}#sk-container-id-1 div.sk-parallel-item::after {content: \"\";width: 100%;border-bottom: 1px solid gray;flex-grow: 1;}#sk-container-id-1 div.sk-label:hover label.sk-toggleable__label {background-color: #d4ebff;}#sk-container-id-1 div.sk-serial::before {content: \"\";position: absolute;border-left: 1px solid gray;box-sizing: border-box;top: 0;bottom: 0;left: 50%;z-index: 0;}#sk-container-id-1 div.sk-serial {display: flex;flex-direction: column;align-items: center;background-color: white;padding-right: 0.2em;padding-left: 0.2em;position: relative;}#sk-container-id-1 div.sk-item {position: relative;z-index: 1;}#sk-container-id-1 div.sk-parallel {display: flex;align-items: stretch;justify-content: center;background-color: white;position: relative;}#sk-container-id-1 div.sk-item::before, #sk-container-id-1 div.sk-parallel-item::before {content: \"\";position: absolute;border-left: 1px solid gray;box-sizing: border-box;top: 0;bottom: 0;left: 50%;z-index: -1;}#sk-container-id-1 div.sk-parallel-item {display: flex;flex-direction: column;z-index: 1;position: relative;background-color: white;}#sk-container-id-1 div.sk-parallel-item:first-child::after {align-self: flex-end;width: 50%;}#sk-container-id-1 div.sk-parallel-item:last-child::after {align-self: flex-start;width: 50%;}#sk-container-id-1 div.sk-parallel-item:only-child::after {width: 0;}#sk-container-id-1 div.sk-dashed-wrapped {border: 1px dashed gray;margin: 0 0.4em 0.5em 0.4em;box-sizing: border-box;padding-bottom: 0.4em;background-color: white;}#sk-container-id-1 div.sk-label label {font-family: monospace;font-weight: bold;display: inline-block;line-height: 1.2em;}#sk-container-id-1 div.sk-label-container {text-align: center;}#sk-container-id-1 div.sk-container {/* jupyter's `normalize.less` sets `[hidden] { display: none; }` but bootstrap.min.css set `[hidden] { display: none !important; }` so we also need the `!important` here to be able to override the default hidden behavior on the sphinx rendered scikit-learn.org. See: https://github.com/scikit-learn/scikit-learn/issues/21755 */display: inline-block !important;position: relative;}#sk-container-id-1 div.sk-text-repr-fallback {display: none;}</style><div id=\"sk-container-id-1\" class=\"sk-top-container\"><div class=\"sk-text-repr-fallback\"><pre>SelectKBest(k=3, score_func=&lt;function f_regression at 0x147947420&gt;)</pre><b>In a Jupyter environment, please rerun this cell to show the HTML representation or trust the notebook. <br />On GitHub, the HTML representation is unable to render, please try loading this page with nbviewer.org.</b></div><div class=\"sk-container\" hidden><div class=\"sk-item\"><div class=\"sk-estimator sk-toggleable\"><input class=\"sk-toggleable__control sk-hidden--visually\" id=\"sk-estimator-id-1\" type=\"checkbox\" checked><label for=\"sk-estimator-id-1\" class=\"sk-toggleable__label sk-toggleable__label-arrow\">SelectKBest</label><div class=\"sk-toggleable__content\"><pre>SelectKBest(k=3, score_func=&lt;function f_regression at 0x147947420&gt;)</pre></div></div></div></div></div>"
      ],
      "text/plain": [
       "SelectKBest(k=3, score_func=<function f_regression at 0x147947420>)"
      ]
     },
     "execution_count": 43,
     "metadata": {},
     "output_type": "execute_result"
    }
   ],
   "source": [
    "selector = SelectKBest(score_func=f_regression, k=3)\n",
    "selector.fit(X, y)"
   ]
  },
  {
   "cell_type": "code",
   "execution_count": 44,
   "id": "4e213799",
   "metadata": {
    "scrolled": false
   },
   "outputs": [
    {
     "name": "stdout",
     "output_type": "stream",
     "text": [
      "Index(['ssc_p', 'hsc_p', 'degree_p'], dtype='object')\n"
     ]
    }
   ],
   "source": [
    "selected_features_indices = selector.get_support()\n",
    "selected_features_names = X.columns[selected_features_indices]\n",
    "print(selected_features_names)"
   ]
  },
  {
   "cell_type": "code",
   "execution_count": 45,
   "id": "eb5626a2",
   "metadata": {},
   "outputs": [],
   "source": [
    "#Instead of dropping status from X and testing it against everything, lets run the regression on the factors best fit\n",
    "#for it. Thanks SelectKBest\n",
    "#Lets test ssc_p, hsc_p, and degree_p against status"
   ]
  },
  {
   "cell_type": "code",
   "execution_count": 46,
   "id": "a12b27ee",
   "metadata": {},
   "outputs": [],
   "source": [
    "#Checking for balance since original results made no sense"
   ]
  },
  {
   "cell_type": "code",
   "execution_count": 47,
   "id": "3e1e8132",
   "metadata": {
    "scrolled": false
   },
   "outputs": [
    {
     "data": {
      "text/plain": [
       "status\n",
       "0    142\n",
       "1     61\n",
       "Name: count, dtype: int64"
      ]
     },
     "execution_count": 47,
     "metadata": {},
     "output_type": "execute_result"
    }
   ],
   "source": [
    "df['status'].value_counts()\n",
    "#yea thats needs some balacing "
   ]
  },
  {
   "cell_type": "code",
   "execution_count": 48,
   "id": "953fac57",
   "metadata": {},
   "outputs": [],
   "source": [
    "#START OF BALACNING\n",
    "df_unbal = pd.read_csv('Placement.csv')"
   ]
  },
  {
   "cell_type": "code",
   "execution_count": 49,
   "id": "b13241c5",
   "metadata": {},
   "outputs": [],
   "source": [
    "#get rid of nulls/outliers so it can run properly and we can later add predicted outcome to df,\n",
    "#so df_unbal has the same index"
   ]
  },
  {
   "cell_type": "code",
   "execution_count": 50,
   "id": "9acc4376",
   "metadata": {},
   "outputs": [
    {
     "name": "stdout",
     "output_type": "stream",
     "text": [
      "15.200000000000003\n",
      "<class 'pandas.core.frame.DataFrame'>\n",
      "Index: 203 entries, 0 to 214\n",
      "Data columns (total 13 columns):\n",
      " #   Column          Non-Null Count  Dtype  \n",
      "---  ------          --------------  -----  \n",
      " 0   gender          203 non-null    object \n",
      " 1   ssc_p           203 non-null    float64\n",
      " 2   ssc_b           203 non-null    object \n",
      " 3   hsc_p           203 non-null    float64\n",
      " 4   hsc_b           203 non-null    object \n",
      " 5   hsc_s           203 non-null    object \n",
      " 6   degree_p        203 non-null    float64\n",
      " 7   degree_t        203 non-null    object \n",
      " 8   workex          203 non-null    object \n",
      " 9   etest_p         203 non-null    float64\n",
      " 10  specialisation  203 non-null    object \n",
      " 11  mba_p           203 non-null    float64\n",
      " 12  status          203 non-null    object \n",
      "dtypes: float64(5), object(8)\n",
      "memory usage: 22.2+ KB\n"
     ]
    }
   ],
   "source": [
    "#same exact code above instead df is df_unbal\n",
    "df_unbal.drop('salary', axis=1, inplace=True)\n",
    "df_unbal.drop('sl_no', axis=1,inplace=True)\n",
    "med = df_unbal['hsc_p'].median()\n",
    "df_unbal['hsc_p'].fillna(med, inplace=True)\n",
    "df_unbal.dropna(subset=['specialisation'], inplace=True)\n",
    "df_unbal.dropna(subset=['hsc_s'], inplace=True)\n",
    "\n",
    "Q1 = df_unbal['ssc_p'].quantile(0.25)\n",
    "Q3 = df_unbal['ssc_p'].quantile(0.75)\n",
    "IQRage = Q3 - Q1\n",
    "print(IQRage)\n",
    "below = Q1 - 1.5 * IQRage\n",
    "above = Q3 + 1.5 * IQRage \n",
    "df_unbal = df_unbal.loc[(df_unbal['ssc_p'] >= below) & (df_unbal['ssc_p'] <= above)]\n",
    "\n",
    "Q1 = df_unbal['hsc_p'].quantile(0.25)\n",
    "Q3 = df_unbal['hsc_p'].quantile(0.75)\n",
    "IQRage = Q3 - Q1\n",
    "below = Q1 - 1.5 * IQRage\n",
    "above = Q3 + 1.5 * IQRage\n",
    "df_unbal = df_unbal.loc[(df_unbal['hsc_p'] >= below) & (df_unbal['hsc_p'] <= above)]\n",
    "\n",
    "Q1 = df_unbal['degree_p'].quantile(0.25)\n",
    "Q3 = df_unbal['degree_p'].quantile(0.75)\n",
    "IQRage = Q3 - Q1\n",
    "below = Q1 - 1.5 * IQRage\n",
    "above = Q3 + 1.5 * IQRage\n",
    "df_unbal = df_unbal.loc[(df_unbal['degree_p'] >= below) & (df_unbal['degree_p'] <= above)]\n",
    "\n",
    "Q1 = df_unbal['etest_p'].quantile(0.25)\n",
    "Q3 = df_unbal['etest_p'].quantile(0.75)\n",
    "IQRage = Q3 - Q1\n",
    "below = Q1 - 1.5 * IQRage\n",
    "above = Q3 + 1.5 * IQRage \n",
    "df_unbal = df_unbal.loc[(df_unbal['etest_p'] >= below) & (df_unbal['etest_p'] <= above)]\n",
    "\n",
    "Q1 = df_unbal['mba_p'].quantile(0.25)\n",
    "Q3 = df_unbal['mba_p'].quantile(0.75)\n",
    "IQRage = Q3 - Q1\n",
    "below = Q1 - 1.5 * IQRage\n",
    "above = Q3 + 1.5 * IQRage \n",
    "df_unbal = df_unbal.loc[(df_unbal['mba_p'] >= below) & (df_unbal['mba_p'] <= above)]\n",
    "df_unbal.info()"
   ]
  },
  {
   "cell_type": "code",
   "execution_count": 51,
   "id": "bdc796c6",
   "metadata": {},
   "outputs": [],
   "source": [
    "df_unbal['gender'] = df_unbal['gender'].factorize()[0]\n",
    "df_unbal['ssc_b'] = df_unbal['ssc_b'].factorize()[0]\n",
    "df_unbal['hsc_b'] = df_unbal['hsc_b'].factorize()[0]\n",
    "df_unbal['hsc_s'] = df_unbal['hsc_s'].factorize()[0]\n",
    "df_unbal['degree_t'] = df_unbal['degree_t'].factorize()[0]\n",
    "df_unbal['workex'] = df_unbal['workex'].factorize()[0]\n",
    "df_unbal['specialisation'] = df_unbal['specialisation'].factorize()[0]\n",
    "df_unbal['status'] = df_unbal['status'].factorize()[0]"
   ]
  },
  {
   "cell_type": "code",
   "execution_count": 52,
   "id": "4da01473",
   "metadata": {
    "scrolled": true
   },
   "outputs": [
    {
     "data": {
      "text/plain": [
       "status\n",
       "0    69.950739\n",
       "1    30.049261\n",
       "Name: count, dtype: float64"
      ]
     },
     "execution_count": 52,
     "metadata": {},
     "output_type": "execute_result"
    }
   ],
   "source": [
    "df_unbal['status'].value_counts()/len(df_unbal)*100"
   ]
  },
  {
   "cell_type": "code",
   "execution_count": 53,
   "id": "668cf0f0",
   "metadata": {},
   "outputs": [],
   "source": [
    "X = df_unbal"
   ]
  },
  {
   "cell_type": "code",
   "execution_count": 54,
   "id": "e8534f7a",
   "metadata": {
    "scrolled": false
   },
   "outputs": [
    {
     "data": {
      "text/html": [
       "<div>\n",
       "<style scoped>\n",
       "    .dataframe tbody tr th:only-of-type {\n",
       "        vertical-align: middle;\n",
       "    }\n",
       "\n",
       "    .dataframe tbody tr th {\n",
       "        vertical-align: top;\n",
       "    }\n",
       "\n",
       "    .dataframe thead th {\n",
       "        text-align: right;\n",
       "    }\n",
       "</style>\n",
       "<table border=\"1\" class=\"dataframe\">\n",
       "  <thead>\n",
       "    <tr style=\"text-align: right;\">\n",
       "      <th></th>\n",
       "      <th>gender</th>\n",
       "      <th>ssc_p</th>\n",
       "      <th>ssc_b</th>\n",
       "      <th>hsc_p</th>\n",
       "      <th>hsc_b</th>\n",
       "      <th>hsc_s</th>\n",
       "      <th>degree_p</th>\n",
       "      <th>degree_t</th>\n",
       "      <th>workex</th>\n",
       "      <th>etest_p</th>\n",
       "      <th>specialisation</th>\n",
       "      <th>mba_p</th>\n",
       "      <th>status</th>\n",
       "    </tr>\n",
       "  </thead>\n",
       "  <tbody>\n",
       "    <tr>\n",
       "      <th>0</th>\n",
       "      <td>0</td>\n",
       "      <td>67.00</td>\n",
       "      <td>0</td>\n",
       "      <td>91.00</td>\n",
       "      <td>0</td>\n",
       "      <td>0</td>\n",
       "      <td>58.00</td>\n",
       "      <td>0</td>\n",
       "      <td>0</td>\n",
       "      <td>55.0</td>\n",
       "      <td>0</td>\n",
       "      <td>58.80</td>\n",
       "      <td>0</td>\n",
       "    </tr>\n",
       "    <tr>\n",
       "      <th>1</th>\n",
       "      <td>0</td>\n",
       "      <td>79.33</td>\n",
       "      <td>1</td>\n",
       "      <td>78.33</td>\n",
       "      <td>0</td>\n",
       "      <td>1</td>\n",
       "      <td>77.48</td>\n",
       "      <td>0</td>\n",
       "      <td>1</td>\n",
       "      <td>86.5</td>\n",
       "      <td>1</td>\n",
       "      <td>66.28</td>\n",
       "      <td>0</td>\n",
       "    </tr>\n",
       "    <tr>\n",
       "      <th>2</th>\n",
       "      <td>0</td>\n",
       "      <td>65.00</td>\n",
       "      <td>1</td>\n",
       "      <td>68.00</td>\n",
       "      <td>1</td>\n",
       "      <td>2</td>\n",
       "      <td>64.00</td>\n",
       "      <td>1</td>\n",
       "      <td>0</td>\n",
       "      <td>75.0</td>\n",
       "      <td>1</td>\n",
       "      <td>57.80</td>\n",
       "      <td>0</td>\n",
       "    </tr>\n",
       "    <tr>\n",
       "      <th>3</th>\n",
       "      <td>0</td>\n",
       "      <td>56.00</td>\n",
       "      <td>1</td>\n",
       "      <td>52.00</td>\n",
       "      <td>1</td>\n",
       "      <td>1</td>\n",
       "      <td>52.00</td>\n",
       "      <td>0</td>\n",
       "      <td>0</td>\n",
       "      <td>66.0</td>\n",
       "      <td>0</td>\n",
       "      <td>59.43</td>\n",
       "      <td>1</td>\n",
       "    </tr>\n",
       "    <tr>\n",
       "      <th>4</th>\n",
       "      <td>0</td>\n",
       "      <td>85.80</td>\n",
       "      <td>1</td>\n",
       "      <td>73.60</td>\n",
       "      <td>1</td>\n",
       "      <td>0</td>\n",
       "      <td>73.30</td>\n",
       "      <td>1</td>\n",
       "      <td>0</td>\n",
       "      <td>96.8</td>\n",
       "      <td>1</td>\n",
       "      <td>55.50</td>\n",
       "      <td>0</td>\n",
       "    </tr>\n",
       "  </tbody>\n",
       "</table>\n",
       "</div>"
      ],
      "text/plain": [
       "   gender  ssc_p  ssc_b  hsc_p  hsc_b  hsc_s  degree_p  degree_t  workex  \\\n",
       "0       0  67.00      0  91.00      0      0     58.00         0       0   \n",
       "1       0  79.33      1  78.33      0      1     77.48         0       1   \n",
       "2       0  65.00      1  68.00      1      2     64.00         1       0   \n",
       "3       0  56.00      1  52.00      1      1     52.00         0       0   \n",
       "4       0  85.80      1  73.60      1      0     73.30         1       0   \n",
       "\n",
       "   etest_p  specialisation  mba_p  status  \n",
       "0     55.0               0  58.80       0  \n",
       "1     86.5               1  66.28       0  \n",
       "2     75.0               1  57.80       0  \n",
       "3     66.0               0  59.43       1  \n",
       "4     96.8               1  55.50       0  "
      ]
     },
     "execution_count": 54,
     "metadata": {},
     "output_type": "execute_result"
    }
   ],
   "source": [
    "X.head(5)"
   ]
  },
  {
   "cell_type": "code",
   "execution_count": 55,
   "id": "bc0fe0fe",
   "metadata": {},
   "outputs": [],
   "source": [
    "#Lets see how well these three variables can predict placement status in the future\n",
    "X = df_unbal[['ssc_p', 'hsc_p','degree_p']]\n",
    "y = df_unbal['status']"
   ]
  },
  {
   "cell_type": "code",
   "execution_count": 56,
   "id": "9d1397c8",
   "metadata": {},
   "outputs": [],
   "source": [
    "lr = LogisticRegression()"
   ]
  },
  {
   "cell_type": "code",
   "execution_count": 57,
   "id": "ff56a3da",
   "metadata": {},
   "outputs": [
    {
     "data": {
      "text/html": [
       "<style>#sk-container-id-2 {color: black;background-color: white;}#sk-container-id-2 pre{padding: 0;}#sk-container-id-2 div.sk-toggleable {background-color: white;}#sk-container-id-2 label.sk-toggleable__label {cursor: pointer;display: block;width: 100%;margin-bottom: 0;padding: 0.3em;box-sizing: border-box;text-align: center;}#sk-container-id-2 label.sk-toggleable__label-arrow:before {content: \"▸\";float: left;margin-right: 0.25em;color: #696969;}#sk-container-id-2 label.sk-toggleable__label-arrow:hover:before {color: black;}#sk-container-id-2 div.sk-estimator:hover label.sk-toggleable__label-arrow:before {color: black;}#sk-container-id-2 div.sk-toggleable__content {max-height: 0;max-width: 0;overflow: hidden;text-align: left;background-color: #f0f8ff;}#sk-container-id-2 div.sk-toggleable__content pre {margin: 0.2em;color: black;border-radius: 0.25em;background-color: #f0f8ff;}#sk-container-id-2 input.sk-toggleable__control:checked~div.sk-toggleable__content {max-height: 200px;max-width: 100%;overflow: auto;}#sk-container-id-2 input.sk-toggleable__control:checked~label.sk-toggleable__label-arrow:before {content: \"▾\";}#sk-container-id-2 div.sk-estimator input.sk-toggleable__control:checked~label.sk-toggleable__label {background-color: #d4ebff;}#sk-container-id-2 div.sk-label input.sk-toggleable__control:checked~label.sk-toggleable__label {background-color: #d4ebff;}#sk-container-id-2 input.sk-hidden--visually {border: 0;clip: rect(1px 1px 1px 1px);clip: rect(1px, 1px, 1px, 1px);height: 1px;margin: -1px;overflow: hidden;padding: 0;position: absolute;width: 1px;}#sk-container-id-2 div.sk-estimator {font-family: monospace;background-color: #f0f8ff;border: 1px dotted black;border-radius: 0.25em;box-sizing: border-box;margin-bottom: 0.5em;}#sk-container-id-2 div.sk-estimator:hover {background-color: #d4ebff;}#sk-container-id-2 div.sk-parallel-item::after {content: \"\";width: 100%;border-bottom: 1px solid gray;flex-grow: 1;}#sk-container-id-2 div.sk-label:hover label.sk-toggleable__label {background-color: #d4ebff;}#sk-container-id-2 div.sk-serial::before {content: \"\";position: absolute;border-left: 1px solid gray;box-sizing: border-box;top: 0;bottom: 0;left: 50%;z-index: 0;}#sk-container-id-2 div.sk-serial {display: flex;flex-direction: column;align-items: center;background-color: white;padding-right: 0.2em;padding-left: 0.2em;position: relative;}#sk-container-id-2 div.sk-item {position: relative;z-index: 1;}#sk-container-id-2 div.sk-parallel {display: flex;align-items: stretch;justify-content: center;background-color: white;position: relative;}#sk-container-id-2 div.sk-item::before, #sk-container-id-2 div.sk-parallel-item::before {content: \"\";position: absolute;border-left: 1px solid gray;box-sizing: border-box;top: 0;bottom: 0;left: 50%;z-index: -1;}#sk-container-id-2 div.sk-parallel-item {display: flex;flex-direction: column;z-index: 1;position: relative;background-color: white;}#sk-container-id-2 div.sk-parallel-item:first-child::after {align-self: flex-end;width: 50%;}#sk-container-id-2 div.sk-parallel-item:last-child::after {align-self: flex-start;width: 50%;}#sk-container-id-2 div.sk-parallel-item:only-child::after {width: 0;}#sk-container-id-2 div.sk-dashed-wrapped {border: 1px dashed gray;margin: 0 0.4em 0.5em 0.4em;box-sizing: border-box;padding-bottom: 0.4em;background-color: white;}#sk-container-id-2 div.sk-label label {font-family: monospace;font-weight: bold;display: inline-block;line-height: 1.2em;}#sk-container-id-2 div.sk-label-container {text-align: center;}#sk-container-id-2 div.sk-container {/* jupyter's `normalize.less` sets `[hidden] { display: none; }` but bootstrap.min.css set `[hidden] { display: none !important; }` so we also need the `!important` here to be able to override the default hidden behavior on the sphinx rendered scikit-learn.org. See: https://github.com/scikit-learn/scikit-learn/issues/21755 */display: inline-block !important;position: relative;}#sk-container-id-2 div.sk-text-repr-fallback {display: none;}</style><div id=\"sk-container-id-2\" class=\"sk-top-container\"><div class=\"sk-text-repr-fallback\"><pre>LogisticRegression()</pre><b>In a Jupyter environment, please rerun this cell to show the HTML representation or trust the notebook. <br />On GitHub, the HTML representation is unable to render, please try loading this page with nbviewer.org.</b></div><div class=\"sk-container\" hidden><div class=\"sk-item\"><div class=\"sk-estimator sk-toggleable\"><input class=\"sk-toggleable__control sk-hidden--visually\" id=\"sk-estimator-id-2\" type=\"checkbox\" checked><label for=\"sk-estimator-id-2\" class=\"sk-toggleable__label sk-toggleable__label-arrow\">LogisticRegression</label><div class=\"sk-toggleable__content\"><pre>LogisticRegression()</pre></div></div></div></div></div>"
      ],
      "text/plain": [
       "LogisticRegression()"
      ]
     },
     "execution_count": 57,
     "metadata": {},
     "output_type": "execute_result"
    }
   ],
   "source": [
    "lr.fit(X,y)"
   ]
  },
  {
   "cell_type": "code",
   "execution_count": 58,
   "id": "52215d31",
   "metadata": {},
   "outputs": [
    {
     "data": {
      "text/plain": [
       "0.8325123152709359"
      ]
     },
     "execution_count": 58,
     "metadata": {},
     "output_type": "execute_result"
    }
   ],
   "source": [
    "lr.score(X,y)"
   ]
  },
  {
   "cell_type": "code",
   "execution_count": 59,
   "id": "a0f55904",
   "metadata": {},
   "outputs": [],
   "source": [
    "pred = lr.predict(X)"
   ]
  },
  {
   "cell_type": "code",
   "execution_count": 60,
   "id": "87b744c3",
   "metadata": {},
   "outputs": [
    {
     "data": {
      "text/plain": [
       "0.7680674209189564"
      ]
     },
     "execution_count": 60,
     "metadata": {},
     "output_type": "execute_result"
    }
   ],
   "source": [
    "balanced_accuracy_score(y, pred)\n",
    "#still very strong"
   ]
  },
  {
   "cell_type": "code",
   "execution_count": 61,
   "id": "2d4183cb",
   "metadata": {},
   "outputs": [
    {
     "data": {
      "text/plain": [
       "(1, 3)"
      ]
     },
     "execution_count": 61,
     "metadata": {},
     "output_type": "execute_result"
    }
   ],
   "source": [
    "xtest = [67.00,91.00,58.00]\n",
    "xtest = np.array(xtest).reshape(1, -1)\n",
    "xtest.shape"
   ]
  },
  {
   "cell_type": "code",
   "execution_count": 62,
   "id": "72937101",
   "metadata": {},
   "outputs": [
    {
     "name": "stderr",
     "output_type": "stream",
     "text": [
      "/opt/anaconda3/lib/python3.11/site-packages/sklearn/base.py:439: UserWarning: X does not have valid feature names, but LogisticRegression was fitted with feature names\n",
      "  warnings.warn(\n"
     ]
    },
    {
     "data": {
      "text/plain": [
       "array([0])"
      ]
     },
     "execution_count": 62,
     "metadata": {},
     "output_type": "execute_result"
    }
   ],
   "source": [
    "lr.predict(xtest)"
   ]
  },
  {
   "cell_type": "code",
   "execution_count": 63,
   "id": "97c6de57",
   "metadata": {},
   "outputs": [
    {
     "data": {
      "text/plain": [
       "(1, 3)"
      ]
     },
     "execution_count": 63,
     "metadata": {},
     "output_type": "execute_result"
    }
   ],
   "source": [
    "xtest= [79.33,78.33, 77.48]\n",
    "xtest = np.array(xtest).reshape(1, -1)\n",
    "xtest.shape\n"
   ]
  },
  {
   "cell_type": "code",
   "execution_count": 64,
   "id": "f9995871",
   "metadata": {},
   "outputs": [],
   "source": [
    "test = lr.predict(X)"
   ]
  },
  {
   "cell_type": "code",
   "execution_count": 65,
   "id": "52654e82",
   "metadata": {},
   "outputs": [
    {
     "name": "stdout",
     "output_type": "stream",
     "text": [
      "[[132  10]\n",
      " [ 24  37]]\n"
     ]
    }
   ],
   "source": [
    "print(metrics.confusion_matrix(y,test))"
   ]
  },
  {
   "cell_type": "code",
   "execution_count": 66,
   "id": "6da3a3bf",
   "metadata": {
    "scrolled": true
   },
   "outputs": [
    {
     "name": "stdout",
     "output_type": "stream",
     "text": [
      "            pred:yes  pred:no\n",
      "actual:yes       132       10\n",
      "actual:no         24       37\n"
     ]
    }
   ],
   "source": [
    "cmtx = pd.DataFrame(\n",
    "    metrics.confusion_matrix(y,test),  \n",
    "    index=['actual:yes', 'actual:no'], \n",
    "    columns=['pred:yes', 'pred:no']\n",
    ")\n",
    "print(cmtx)\n",
    "#Nice, 169 correct predications to 34 incorrect. Thats very reliable."
   ]
  },
  {
   "cell_type": "code",
   "execution_count": 67,
   "id": "8be88931",
   "metadata": {},
   "outputs": [],
   "source": [
    "#lets add our predicted outcome of status to the dataframe\n",
    "df['predicated outcome'] = test"
   ]
  },
  {
   "cell_type": "code",
   "execution_count": 68,
   "id": "e9ef8963",
   "metadata": {},
   "outputs": [],
   "source": [
    "df_unbal['predicated outcome']= test"
   ]
  },
  {
   "cell_type": "code",
   "execution_count": 69,
   "id": "e9579306",
   "metadata": {
    "scrolled": false
   },
   "outputs": [
    {
     "data": {
      "text/html": [
       "<div>\n",
       "<style scoped>\n",
       "    .dataframe tbody tr th:only-of-type {\n",
       "        vertical-align: middle;\n",
       "    }\n",
       "\n",
       "    .dataframe tbody tr th {\n",
       "        vertical-align: top;\n",
       "    }\n",
       "\n",
       "    .dataframe thead th {\n",
       "        text-align: right;\n",
       "    }\n",
       "</style>\n",
       "<table border=\"1\" class=\"dataframe\">\n",
       "  <thead>\n",
       "    <tr style=\"text-align: right;\">\n",
       "      <th></th>\n",
       "      <th>gender</th>\n",
       "      <th>ssc_p</th>\n",
       "      <th>ssc_b</th>\n",
       "      <th>hsc_p</th>\n",
       "      <th>hsc_b</th>\n",
       "      <th>hsc_s</th>\n",
       "      <th>degree_p</th>\n",
       "      <th>degree_t</th>\n",
       "      <th>workex</th>\n",
       "      <th>etest_p</th>\n",
       "      <th>specialisation</th>\n",
       "      <th>mba_p</th>\n",
       "      <th>status</th>\n",
       "      <th>predicated outcome</th>\n",
       "    </tr>\n",
       "  </thead>\n",
       "  <tbody>\n",
       "    <tr>\n",
       "      <th>0</th>\n",
       "      <td>0</td>\n",
       "      <td>67.00</td>\n",
       "      <td>0</td>\n",
       "      <td>91.00</td>\n",
       "      <td>0</td>\n",
       "      <td>0</td>\n",
       "      <td>58.00</td>\n",
       "      <td>0</td>\n",
       "      <td>0</td>\n",
       "      <td>55.00</td>\n",
       "      <td>0</td>\n",
       "      <td>58.80</td>\n",
       "      <td>0</td>\n",
       "      <td>0</td>\n",
       "    </tr>\n",
       "    <tr>\n",
       "      <th>1</th>\n",
       "      <td>0</td>\n",
       "      <td>79.33</td>\n",
       "      <td>1</td>\n",
       "      <td>78.33</td>\n",
       "      <td>0</td>\n",
       "      <td>1</td>\n",
       "      <td>77.48</td>\n",
       "      <td>0</td>\n",
       "      <td>1</td>\n",
       "      <td>86.50</td>\n",
       "      <td>1</td>\n",
       "      <td>66.28</td>\n",
       "      <td>0</td>\n",
       "      <td>0</td>\n",
       "    </tr>\n",
       "    <tr>\n",
       "      <th>2</th>\n",
       "      <td>0</td>\n",
       "      <td>65.00</td>\n",
       "      <td>1</td>\n",
       "      <td>68.00</td>\n",
       "      <td>1</td>\n",
       "      <td>2</td>\n",
       "      <td>64.00</td>\n",
       "      <td>1</td>\n",
       "      <td>0</td>\n",
       "      <td>75.00</td>\n",
       "      <td>1</td>\n",
       "      <td>57.80</td>\n",
       "      <td>0</td>\n",
       "      <td>0</td>\n",
       "    </tr>\n",
       "    <tr>\n",
       "      <th>3</th>\n",
       "      <td>0</td>\n",
       "      <td>56.00</td>\n",
       "      <td>1</td>\n",
       "      <td>52.00</td>\n",
       "      <td>1</td>\n",
       "      <td>1</td>\n",
       "      <td>52.00</td>\n",
       "      <td>0</td>\n",
       "      <td>0</td>\n",
       "      <td>66.00</td>\n",
       "      <td>0</td>\n",
       "      <td>59.43</td>\n",
       "      <td>1</td>\n",
       "      <td>1</td>\n",
       "    </tr>\n",
       "    <tr>\n",
       "      <th>4</th>\n",
       "      <td>0</td>\n",
       "      <td>85.80</td>\n",
       "      <td>1</td>\n",
       "      <td>73.60</td>\n",
       "      <td>1</td>\n",
       "      <td>0</td>\n",
       "      <td>73.30</td>\n",
       "      <td>1</td>\n",
       "      <td>0</td>\n",
       "      <td>96.80</td>\n",
       "      <td>1</td>\n",
       "      <td>55.50</td>\n",
       "      <td>0</td>\n",
       "      <td>0</td>\n",
       "    </tr>\n",
       "    <tr>\n",
       "      <th>5</th>\n",
       "      <td>0</td>\n",
       "      <td>55.00</td>\n",
       "      <td>0</td>\n",
       "      <td>49.80</td>\n",
       "      <td>0</td>\n",
       "      <td>1</td>\n",
       "      <td>67.25</td>\n",
       "      <td>0</td>\n",
       "      <td>1</td>\n",
       "      <td>55.00</td>\n",
       "      <td>1</td>\n",
       "      <td>51.58</td>\n",
       "      <td>1</td>\n",
       "      <td>1</td>\n",
       "    </tr>\n",
       "    <tr>\n",
       "      <th>6</th>\n",
       "      <td>1</td>\n",
       "      <td>46.00</td>\n",
       "      <td>0</td>\n",
       "      <td>49.20</td>\n",
       "      <td>0</td>\n",
       "      <td>0</td>\n",
       "      <td>79.00</td>\n",
       "      <td>1</td>\n",
       "      <td>0</td>\n",
       "      <td>74.28</td>\n",
       "      <td>1</td>\n",
       "      <td>53.29</td>\n",
       "      <td>1</td>\n",
       "      <td>1</td>\n",
       "    </tr>\n",
       "    <tr>\n",
       "      <th>7</th>\n",
       "      <td>0</td>\n",
       "      <td>82.00</td>\n",
       "      <td>1</td>\n",
       "      <td>64.00</td>\n",
       "      <td>1</td>\n",
       "      <td>1</td>\n",
       "      <td>66.00</td>\n",
       "      <td>0</td>\n",
       "      <td>1</td>\n",
       "      <td>67.00</td>\n",
       "      <td>1</td>\n",
       "      <td>62.14</td>\n",
       "      <td>0</td>\n",
       "      <td>0</td>\n",
       "    </tr>\n",
       "    <tr>\n",
       "      <th>8</th>\n",
       "      <td>0</td>\n",
       "      <td>73.00</td>\n",
       "      <td>1</td>\n",
       "      <td>79.00</td>\n",
       "      <td>1</td>\n",
       "      <td>0</td>\n",
       "      <td>72.00</td>\n",
       "      <td>1</td>\n",
       "      <td>0</td>\n",
       "      <td>91.34</td>\n",
       "      <td>1</td>\n",
       "      <td>61.29</td>\n",
       "      <td>0</td>\n",
       "      <td>0</td>\n",
       "    </tr>\n",
       "    <tr>\n",
       "      <th>9</th>\n",
       "      <td>0</td>\n",
       "      <td>58.00</td>\n",
       "      <td>1</td>\n",
       "      <td>70.00</td>\n",
       "      <td>1</td>\n",
       "      <td>0</td>\n",
       "      <td>61.00</td>\n",
       "      <td>1</td>\n",
       "      <td>0</td>\n",
       "      <td>54.00</td>\n",
       "      <td>1</td>\n",
       "      <td>52.21</td>\n",
       "      <td>1</td>\n",
       "      <td>1</td>\n",
       "    </tr>\n",
       "  </tbody>\n",
       "</table>\n",
       "</div>"
      ],
      "text/plain": [
       "   gender  ssc_p  ssc_b  hsc_p  hsc_b  hsc_s  degree_p  degree_t  workex  \\\n",
       "0       0  67.00      0  91.00      0      0     58.00         0       0   \n",
       "1       0  79.33      1  78.33      0      1     77.48         0       1   \n",
       "2       0  65.00      1  68.00      1      2     64.00         1       0   \n",
       "3       0  56.00      1  52.00      1      1     52.00         0       0   \n",
       "4       0  85.80      1  73.60      1      0     73.30         1       0   \n",
       "5       0  55.00      0  49.80      0      1     67.25         0       1   \n",
       "6       1  46.00      0  49.20      0      0     79.00         1       0   \n",
       "7       0  82.00      1  64.00      1      1     66.00         0       1   \n",
       "8       0  73.00      1  79.00      1      0     72.00         1       0   \n",
       "9       0  58.00      1  70.00      1      0     61.00         1       0   \n",
       "\n",
       "   etest_p  specialisation  mba_p  status  predicated outcome  \n",
       "0    55.00               0  58.80       0                   0  \n",
       "1    86.50               1  66.28       0                   0  \n",
       "2    75.00               1  57.80       0                   0  \n",
       "3    66.00               0  59.43       1                   1  \n",
       "4    96.80               1  55.50       0                   0  \n",
       "5    55.00               1  51.58       1                   1  \n",
       "6    74.28               1  53.29       1                   1  \n",
       "7    67.00               1  62.14       0                   0  \n",
       "8    91.34               1  61.29       0                   0  \n",
       "9    54.00               1  52.21       1                   1  "
      ]
     },
     "execution_count": 69,
     "metadata": {},
     "output_type": "execute_result"
    }
   ],
   "source": [
    "df.head(10)"
   ]
  },
  {
   "cell_type": "code",
   "execution_count": 70,
   "id": "5af902e3",
   "metadata": {},
   "outputs": [],
   "source": [
    "#Testing time"
   ]
  },
  {
   "cell_type": "code",
   "execution_count": 71,
   "id": "1f9f2163",
   "metadata": {},
   "outputs": [],
   "source": [
    "X_train, X_test, y_train,y_test = train_test_split(X,y, test_size=.3, random_state=36363)"
   ]
  },
  {
   "cell_type": "code",
   "execution_count": 72,
   "id": "98c3f8c9",
   "metadata": {},
   "outputs": [
    {
     "data": {
      "text/plain": [
       "(142, 3)"
      ]
     },
     "execution_count": 72,
     "metadata": {},
     "output_type": "execute_result"
    }
   ],
   "source": [
    "X_train.shape"
   ]
  },
  {
   "cell_type": "code",
   "execution_count": 73,
   "id": "2f073618",
   "metadata": {
    "scrolled": true
   },
   "outputs": [
    {
     "data": {
      "text/plain": [
       "(142,)"
      ]
     },
     "execution_count": 73,
     "metadata": {},
     "output_type": "execute_result"
    }
   ],
   "source": [
    "y_train.shape"
   ]
  },
  {
   "cell_type": "code",
   "execution_count": 74,
   "id": "281ebaf9",
   "metadata": {
    "scrolled": true
   },
   "outputs": [
    {
     "data": {
      "text/plain": [
       "(61, 3)"
      ]
     },
     "execution_count": 74,
     "metadata": {},
     "output_type": "execute_result"
    }
   ],
   "source": [
    "X_test.shape"
   ]
  },
  {
   "cell_type": "code",
   "execution_count": 75,
   "id": "f66fd2ca",
   "metadata": {
    "scrolled": true
   },
   "outputs": [
    {
     "data": {
      "text/html": [
       "<style>#sk-container-id-3 {color: black;background-color: white;}#sk-container-id-3 pre{padding: 0;}#sk-container-id-3 div.sk-toggleable {background-color: white;}#sk-container-id-3 label.sk-toggleable__label {cursor: pointer;display: block;width: 100%;margin-bottom: 0;padding: 0.3em;box-sizing: border-box;text-align: center;}#sk-container-id-3 label.sk-toggleable__label-arrow:before {content: \"▸\";float: left;margin-right: 0.25em;color: #696969;}#sk-container-id-3 label.sk-toggleable__label-arrow:hover:before {color: black;}#sk-container-id-3 div.sk-estimator:hover label.sk-toggleable__label-arrow:before {color: black;}#sk-container-id-3 div.sk-toggleable__content {max-height: 0;max-width: 0;overflow: hidden;text-align: left;background-color: #f0f8ff;}#sk-container-id-3 div.sk-toggleable__content pre {margin: 0.2em;color: black;border-radius: 0.25em;background-color: #f0f8ff;}#sk-container-id-3 input.sk-toggleable__control:checked~div.sk-toggleable__content {max-height: 200px;max-width: 100%;overflow: auto;}#sk-container-id-3 input.sk-toggleable__control:checked~label.sk-toggleable__label-arrow:before {content: \"▾\";}#sk-container-id-3 div.sk-estimator input.sk-toggleable__control:checked~label.sk-toggleable__label {background-color: #d4ebff;}#sk-container-id-3 div.sk-label input.sk-toggleable__control:checked~label.sk-toggleable__label {background-color: #d4ebff;}#sk-container-id-3 input.sk-hidden--visually {border: 0;clip: rect(1px 1px 1px 1px);clip: rect(1px, 1px, 1px, 1px);height: 1px;margin: -1px;overflow: hidden;padding: 0;position: absolute;width: 1px;}#sk-container-id-3 div.sk-estimator {font-family: monospace;background-color: #f0f8ff;border: 1px dotted black;border-radius: 0.25em;box-sizing: border-box;margin-bottom: 0.5em;}#sk-container-id-3 div.sk-estimator:hover {background-color: #d4ebff;}#sk-container-id-3 div.sk-parallel-item::after {content: \"\";width: 100%;border-bottom: 1px solid gray;flex-grow: 1;}#sk-container-id-3 div.sk-label:hover label.sk-toggleable__label {background-color: #d4ebff;}#sk-container-id-3 div.sk-serial::before {content: \"\";position: absolute;border-left: 1px solid gray;box-sizing: border-box;top: 0;bottom: 0;left: 50%;z-index: 0;}#sk-container-id-3 div.sk-serial {display: flex;flex-direction: column;align-items: center;background-color: white;padding-right: 0.2em;padding-left: 0.2em;position: relative;}#sk-container-id-3 div.sk-item {position: relative;z-index: 1;}#sk-container-id-3 div.sk-parallel {display: flex;align-items: stretch;justify-content: center;background-color: white;position: relative;}#sk-container-id-3 div.sk-item::before, #sk-container-id-3 div.sk-parallel-item::before {content: \"\";position: absolute;border-left: 1px solid gray;box-sizing: border-box;top: 0;bottom: 0;left: 50%;z-index: -1;}#sk-container-id-3 div.sk-parallel-item {display: flex;flex-direction: column;z-index: 1;position: relative;background-color: white;}#sk-container-id-3 div.sk-parallel-item:first-child::after {align-self: flex-end;width: 50%;}#sk-container-id-3 div.sk-parallel-item:last-child::after {align-self: flex-start;width: 50%;}#sk-container-id-3 div.sk-parallel-item:only-child::after {width: 0;}#sk-container-id-3 div.sk-dashed-wrapped {border: 1px dashed gray;margin: 0 0.4em 0.5em 0.4em;box-sizing: border-box;padding-bottom: 0.4em;background-color: white;}#sk-container-id-3 div.sk-label label {font-family: monospace;font-weight: bold;display: inline-block;line-height: 1.2em;}#sk-container-id-3 div.sk-label-container {text-align: center;}#sk-container-id-3 div.sk-container {/* jupyter's `normalize.less` sets `[hidden] { display: none; }` but bootstrap.min.css set `[hidden] { display: none !important; }` so we also need the `!important` here to be able to override the default hidden behavior on the sphinx rendered scikit-learn.org. See: https://github.com/scikit-learn/scikit-learn/issues/21755 */display: inline-block !important;position: relative;}#sk-container-id-3 div.sk-text-repr-fallback {display: none;}</style><div id=\"sk-container-id-3\" class=\"sk-top-container\"><div class=\"sk-text-repr-fallback\"><pre>LogisticRegression()</pre><b>In a Jupyter environment, please rerun this cell to show the HTML representation or trust the notebook. <br />On GitHub, the HTML representation is unable to render, please try loading this page with nbviewer.org.</b></div><div class=\"sk-container\" hidden><div class=\"sk-item\"><div class=\"sk-estimator sk-toggleable\"><input class=\"sk-toggleable__control sk-hidden--visually\" id=\"sk-estimator-id-3\" type=\"checkbox\" checked><label for=\"sk-estimator-id-3\" class=\"sk-toggleable__label sk-toggleable__label-arrow\">LogisticRegression</label><div class=\"sk-toggleable__content\"><pre>LogisticRegression()</pre></div></div></div></div></div>"
      ],
      "text/plain": [
       "LogisticRegression()"
      ]
     },
     "execution_count": 75,
     "metadata": {},
     "output_type": "execute_result"
    }
   ],
   "source": [
    "lr.fit(X_train,y_train)"
   ]
  },
  {
   "cell_type": "code",
   "execution_count": 76,
   "id": "01016520",
   "metadata": {
    "scrolled": true
   },
   "outputs": [
    {
     "data": {
      "text/plain": [
       "0.8380281690140845"
      ]
     },
     "execution_count": 76,
     "metadata": {},
     "output_type": "execute_result"
    }
   ],
   "source": [
    "lr.score(X_train,y_train)\n",
    "#Looks like our model is indeed very strong"
   ]
  },
  {
   "cell_type": "code",
   "execution_count": 77,
   "id": "00e6d8d3",
   "metadata": {},
   "outputs": [],
   "source": [
    "train = lr.predict(X_train)"
   ]
  },
  {
   "cell_type": "code",
   "execution_count": 78,
   "id": "5df524d9",
   "metadata": {},
   "outputs": [],
   "source": [
    "test = lr.predict(X_test)"
   ]
  },
  {
   "cell_type": "code",
   "execution_count": 79,
   "id": "5ef22fec",
   "metadata": {},
   "outputs": [
    {
     "name": "stdout",
     "output_type": "stream",
     "text": [
      "            pred:yes  pred:no\n",
      "actual:yes        37        6\n",
      "actual:no          9        9\n"
     ]
    }
   ],
   "source": [
    "cmtx = pd.DataFrame(\n",
    "    metrics.confusion_matrix(y_test,test),  \n",
    "    index=['actual:yes', 'actual:no'], \n",
    "    columns=['pred:yes', 'pred:no']\n",
    ")\n",
    "print(cmtx)\n",
    "#Great, 46 correct predictions and only 15 incorrect predictions. This model is very strong, yet believeable\n",
    "#at predicting whether a graduate would find placement or not."
   ]
  },
  {
   "cell_type": "code",
   "execution_count": 80,
   "id": "eb6a84c1",
   "metadata": {},
   "outputs": [],
   "source": [
    "#Overall,it looks like secondary education percentile, secondary higher education percentile, and degree percentile make for a very accurate regression model\n",
    "#if a gradute is going to find placement or not. I'll let the company know in the future they should keep an eye on these\n",
    "#attributes in future gradutes to determine who will better find placement. The more I think about it,\n",
    "#the more it makes sense, as your highschool grades are very important for getting into a good college,\n",
    "#which makes finding a job all the more easy. This was a very challenging but rewarding project ngl."
   ]
  }
 ],
 "metadata": {
  "kernelspec": {
   "display_name": "Python 3 (ipykernel)",
   "language": "python",
   "name": "python3"
  },
  "language_info": {
   "codemirror_mode": {
    "name": "ipython",
    "version": 3
   },
   "file_extension": ".py",
   "mimetype": "text/x-python",
   "name": "python",
   "nbconvert_exporter": "python",
   "pygments_lexer": "ipython3",
   "version": "3.11.7"
  }
 },
 "nbformat": 4,
 "nbformat_minor": 5
}
